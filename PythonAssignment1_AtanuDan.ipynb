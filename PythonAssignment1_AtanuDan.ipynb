{
 "cells": [
  {
   "cell_type": "code",
   "execution_count": 21,
   "metadata": {},
   "outputs": [
    {
     "name": "stdout",
     "output_type": "stream",
     "text": [
      "['False', 'None', 'True', 'and', 'as', 'assert', 'async', 'await', 'break', 'class', 'continue', 'def', 'del', 'elif', 'else', 'except', 'finally', 'for', 'from', 'global', 'if', 'import', 'in', 'is', 'lambda', 'nonlocal', 'not', 'or', 'pass', 'raise', 'return', 'try', 'while', 'with', 'yield']\n",
      "Total number of keywords  35\n"
     ]
    }
   ],
   "source": [
    "\n",
    "import keyword \n",
    "print(keyword.kwlist)\n",
    "print(\"Total number of keywords \", len(keyword.kwlist))"
   ]
  },
  {
   "attachments": {
    "image.png": {
     "image/png": "[encoded data removed]"
    }
   },
   "cell_type": "markdown",
   "metadata": {},
   "source": [
    "## Python Keywords\n",
    "\n",
    "![image.png](attachment:image.png)"
   ]
  },
  {
   "cell_type": "markdown",
   "metadata": {},
   "source": [
    "### Create two strings a and b with any integer values stored in it And perform Addition, Multiplication, Subtraction and a2 +b2\n",
    "\n"
   ]
  },
  {
   "cell_type": "code",
   "execution_count": 13,
   "metadata": {},
   "outputs": [
    {
     "name": "stdout",
     "output_type": "stream",
     "text": [
      "a :  4\n",
      "b :  5\n"
     ]
    }
   ],
   "source": [
    "a,b =4,5\n",
    "print (\"a : \", a)\n",
    "print (\"b : \", b)"
   ]
  },
  {
   "cell_type": "code",
   "execution_count": 14,
   "metadata": {},
   "outputs": [
    {
     "name": "stdout",
     "output_type": "stream",
     "text": [
      "a+b :  9\n",
      "a-b :  -1\n",
      "a*b :  20\n",
      "a2+b2 :  41\n"
     ]
    }
   ],
   "source": [
    "\n",
    "print (\"a+b : \", a+b)\n",
    "print (\"a-b : \", a-b)\n",
    "print (\"a*b : \", a*b)\n",
    "print (\"a2+b2 : \", a**2+b**2)\n"
   ]
  },
  {
   "cell_type": "markdown",
   "metadata": {},
   "source": [
    "### Use Boolean operators (==, !=, >, >=, <, <= ) , between a and b and Display output"
   ]
  },
  {
   "cell_type": "code",
   "execution_count": 19,
   "metadata": {},
   "outputs": [
    {
     "name": "stdout",
     "output_type": "stream",
     "text": [
      "a==b False\n",
      "a!=b True\n",
      "a>b False\n",
      "a>=b False\n",
      "a<b True\n",
      "a<=b True\n"
     ]
    }
   ],
   "source": [
    "# a > b is False \n",
    "print(\"a==b\", a == b) \n",
    "print(\"a!=b\", a != b) \n",
    "print(\"a>b\", a > b) \n",
    "print(\"a>=b\", a >= b) \n",
    "print(\"a<b\", a < b) \n",
    "print(\"a<=b\", a <= b) \n"
   ]
  },
  {
   "cell_type": "markdown",
   "metadata": {},
   "source": [
    "###  Create two strings x and y with any integer values stored in it And perform bitwise operations (&,^, | ,>>,<<)"
   ]
  },
  {
   "cell_type": "code",
   "execution_count": 20,
   "metadata": {},
   "outputs": [
    {
     "name": "stdout",
     "output_type": "stream",
     "text": [
      "Value of z is  22\n",
      "Value of z is  31\n",
      "Value of z is  9\n",
      "Value of z is  120\n",
      "Value of z is  7\n"
     ]
    }
   ],
   "source": [
    "x = 30  \n",
    "y = 23  \n",
    "c = 0\n",
    "\n",
    "z = x & y;       \n",
    "print (\"Value of z is \",z)\n",
    "z = x | y;       \n",
    "print (\"Value of z is \",z)\n",
    "z = x ^ y;       \n",
    "print (\"Value of z is \",z)\n",
    "\n",
    "z = x << 2;       \n",
    "print (\"Value of z is \",z) \n",
    "\n",
    "z = x >> 2;       \n",
    "print (\"Value of z is \",z) \n"
   ]
  }
 ],
 "metadata": {
  "kernelspec": {
   "display_name": "Python 3",
   "language": "python",
   "name": "python3"
  },
  "language_info": {
   "codemirror_mode": {
    "name": "ipython",
    "version": 3
   },
   "file_extension": ".py",
   "mimetype": "text/x-python",
   "name": "python",
   "nbconvert_exporter": "python",
   "pygments_lexer": "ipython3",
   "version": "3.7.0"
  }
 },
 "nbformat": 4,
 "nbformat_minor": 2
}
