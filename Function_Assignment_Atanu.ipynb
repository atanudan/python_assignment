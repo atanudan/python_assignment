{
 "cells": [
  {
   "cell_type": "markdown",
   "metadata": {},
   "source": [
    "1. Write a Python function that accepts a string and\n",
    "calculates the number of uppercase letters and lowercase\n",
    "letters."
   ]
  },
  {
   "cell_type": "code",
   "execution_count": 7,
   "metadata": {},
   "outputs": [
    {
     "name": "stdout",
     "output_type": "stream",
     "text": [
      "Enter String: Enter String\n",
      "No. of Upper case characters :  2\n",
      "No. of Lower case Characters :  9\n"
     ]
    }
   ],
   "source": [
    "def calculate_letter_U_L_case(inputString):\n",
    "    ul={\"u_case\":0,\"l_case\":0}\n",
    "    \n",
    "    for c in inputString:\n",
    "        if c.isupper():\n",
    "            ul[\"u_case\"]+=1\n",
    "        elif c.islower():\n",
    "            ul[\"l_case\"]+=1\n",
    "        else:\n",
    "            pass\n",
    "    return ul\n",
    "\n",
    "\n",
    "dicOut=calculate_letter_U_L_case(input(\"Enter String: \"))\n",
    "print (\"No. of Upper case characters : \", dicOut[\"u_case\"])\n",
    "print (\"No. of Lower case Characters : \", dicOut[\"l_case\"])\n",
    "\n",
    "#string_test('The quick Brown Fox')\n"
   ]
  },
  {
   "cell_type": "markdown",
   "metadata": {},
   "source": [
    "2. Write a Python function to create and print a list where\n",
    "the values are squares of numbers between 1 and 30 (both\n",
    "included)."
   ]
  },
  {
   "cell_type": "code",
   "execution_count": 9,
   "metadata": {},
   "outputs": [
    {
     "name": "stdout",
     "output_type": "stream",
     "text": [
      "[1, 4, 9, 16, 25, 36, 49, 64, 81, 100, 121, 144, 169, 196, 225, 256, 289, 324, 361, 400, 441, 484, 529, 576, 625, 676, 729, 784, 841, 900]\n"
     ]
    }
   ],
   "source": [
    "def printSqValues():\n",
    "    \n",
    "    l = list()\n",
    "    for i in range(1,31):\n",
    "        l.append(i**2)\n",
    "    print(l)\n",
    "\n",
    "printSqValues()\n"
   ]
  },
  {
   "cell_type": "markdown",
   "metadata": {},
   "source": [
    "3.Create a function that counts the number of elements\n",
    "within a list that are greater than 30."
   ]
  },
  {
   "cell_type": "code",
   "execution_count": 25,
   "metadata": {},
   "outputs": [
    {
     "name": "stdout",
     "output_type": "stream",
     "text": [
      "count >30 is 40\n"
     ]
    }
   ],
   "source": [
    "def getCout(list1):\n",
    "    count1=len(list1)\n",
    "    \n",
    "    if count1 > 30:\n",
    "        print(\"count >30 is {0}\".format(count1))\n",
    "    else:\n",
    "        print(\"count {0}\".format(count1))\n",
    "\n",
    "        \n",
    "list2=[1,2,3,4,5,6,7,8,9,0,1,2,3,4,5,6,7,8,9,0,1,2,3,4,5,6,7,8,9,0,1,2,3,4,5,6,7,8,9,0] \n",
    "getCout(list2)"
   ]
  },
  {
   "cell_type": "markdown",
   "metadata": {},
   "source": [
    "4. Write a Python function that takes a list and returns a\n",
    "new list with unique elements of the first list."
   ]
  },
  {
   "cell_type": "code",
   "execution_count": 26,
   "metadata": {},
   "outputs": [
    {
     "name": "stdout",
     "output_type": "stream",
     "text": [
      "[1, 2, 3, 4, 5]\n"
     ]
    }
   ],
   "source": [
    "def unique_list(l):\n",
    "  x = []\n",
    "  for a in l:\n",
    "    if a not in x:\n",
    "      x.append(a)\n",
    "  return x\n",
    "\n",
    "print(unique_list([1,2,3,3,3,3,4,5])) \n"
   ]
  },
  {
   "cell_type": "markdown",
   "metadata": {},
   "source": [
    "5. Create a function showEmployee() in such a way that it\n",
    "should accept employee name, and it’s salary and display\n",
    "both, and if the salary is missing in function call it should\n",
    "show it as 9000"
   ]
  },
  {
   "cell_type": "code",
   "execution_count": 28,
   "metadata": {},
   "outputs": [
    {
     "name": "stdout",
     "output_type": "stream",
     "text": [
      "Emp Name:  Atanu  Sal: 100\n",
      "Emp Name:  Ram  Sal: 9000\n"
     ]
    }
   ],
   "source": [
    "def showEmployee(empName,sal=9000):\n",
    "    print (\"Emp Name: \",empName, \" Sal:\", sal)\n",
    "    \n",
    "showEmployee(\"Atanu\",100)    \n",
    "showEmployee(\"Ram\")    "
   ]
  },
  {
   "cell_type": "markdown",
   "metadata": {},
   "source": [
    "6. Write a Python program to count the even, odd\n",
    "numbers in a given array of integers using Lambda."
   ]
  },
  {
   "cell_type": "code",
   "execution_count": 30,
   "metadata": {},
   "outputs": [
    {
     "name": "stdout",
     "output_type": "stream",
     "text": [
      "Original arrays:\n",
      "[1, 2, 3, 5, 7, 8, 9, 10]\n",
      "\n",
      "Number of even numbers in the above array:  5\n",
      "\n",
      "Number of even numbers in the above array:  3\n"
     ]
    }
   ],
   "source": [
    "array_nums = [1, 2, 3, 5, 7, 8, 9, 10]\n",
    "print(\"Original arrays:\")\n",
    "print(array_nums)\n",
    "odd_count=len(list(filter(lambda o:(o%2 !=0),array_nums)))\n",
    "print(\"\\nNumber of even numbers in the above array: \", odd_count)\n",
    "even_count=len(list(filter(lambda e:(e%2 ==0),array_nums)))\n",
    "print(\"\\nNumber of even numbers in the above array: \", even_count)\n",
    "\n"
   ]
  },
  {
   "cell_type": "markdown",
   "metadata": {},
   "source": [
    "7. Write a Python program to add two given lists using\n",
    "map and lambda"
   ]
  },
  {
   "cell_type": "code",
   "execution_count": 37,
   "metadata": {},
   "outputs": [
    {
     "name": "stdout",
     "output_type": "stream",
     "text": [
      "Original list:\n",
      "[2, 3, 4, 5, 18]\n",
      "[8, 9, 10, 11]\n",
      "\n",
      "Result: after adding two list\n",
      "[10, 12, 14, 16]\n"
     ]
    }
   ],
   "source": [
    "list1=[2,3,4,5,18]\n",
    "list2=[8,9,10,11]\n",
    "print(\"Original list:\")\n",
    "print(list1)\n",
    "print(list2)\n",
    "\n",
    "add_list3=map(lambda x,y:x+y, list1,list2)\n",
    "\n",
    "print(\"\\nResult: after adding two list\")\n",
    "print(list(add_list3))\n"
   ]
  },
  {
   "cell_type": "markdown",
   "metadata": {},
   "source": [
    "8. Write a Python program to rearrange positive and\n",
    "negative numbers in a given array using Lambda and filter"
   ]
  },
  {
   "cell_type": "code",
   "execution_count": 14,
   "metadata": {},
   "outputs": [
    {
     "name": "stdout",
     "output_type": "stream",
     "text": [
      "Original list:\n",
      "[2, 3, -4, -5, 18, -10, 0]\n",
      "\n",
      " Positive List :\n",
      "[2, 3, 18, 0]\n",
      "\n",
      " Negative List :\n",
      "[-4, -5, -10]\n",
      "\n",
      " Rearrange List :\n",
      "[2, 3, 18, 0, -4, -5, -10]\n"
     ]
    }
   ],
   "source": [
    "list1=[2,3,-4,-5,18,-10,0]\n",
    "\n",
    "print(\"Original list:\")\n",
    "print(list1)\n",
    "\n",
    "pos_list=list(filter(lambda x:  x>=0,list1))\n",
    "print(\"\\n Positive List :\")\n",
    "print(pos_list)\n",
    "\n",
    "\n",
    "neg_list=list(filter(lambda x:  x<0,list1))\n",
    "print(\"\\n Negative List :\")\n",
    "print(neg_list)\n",
    "\n",
    "print(\"\\n Rearrange List :\")\n",
    "\n",
    "lst3=pos_list+neg_list\n",
    "print(lst3)\n",
    "\n"
   ]
  },
  {
   "cell_type": "markdown",
   "metadata": {},
   "source": [
    "9. Write a Python program to filter a list of integers using\n",
    "Lambda."
   ]
  },
  {
   "cell_type": "code",
   "execution_count": 30,
   "metadata": {},
   "outputs": [
    {
     "name": "stdout",
     "output_type": "stream",
     "text": [
      "Original list:\n",
      "[2, 3, 'A', 4, 5, 'B', 18, 10, 'C']\n",
      "True\n",
      "\n",
      " Positive List :\n",
      "[2, 3, 4, 5, 18, 10]\n"
     ]
    }
   ],
   "source": [
    "list1=[2,3,\"A\",4,5,\"B\",18,10,\"C\"]\n",
    "\n",
    "print(\"Original list:\")\n",
    "print(list1)\n",
    "\n",
    "print(isinstance(1, int))\n",
    "from functools import reduce\n",
    "find_greater=filter(lambda x : (isinstance(x, int)==True) ,list1)\n",
    "\n",
    "#pos_list=list(map(lambda x, y:x if isinstance(x, int) else 0 ,list1))\n",
    "print(\"\\n Positive List :\")\n",
    "print(list(find_greater))"
   ]
  },
  {
   "cell_type": "markdown",
   "metadata": {},
   "source": [
    "10. Write a Python program to find the intersection of two\n",
    "given arrays using Lambda and filter."
   ]
  },
  {
   "cell_type": "code",
   "execution_count": 29,
   "metadata": {},
   "outputs": [
    {
     "name": "stdout",
     "output_type": "stream",
     "text": [
      "Original arrays:\n",
      "[1, 2, 3, 5, 7, 8, 9, 10]\n",
      "[1, 2, 4, 8, 9]\n",
      "\n",
      "Intersection of the said arrays:  [1, 2, 8, 9]\n"
     ]
    }
   ],
   "source": [
    "array_nums1 = [1, 2, 3, 5, 7, 8, 9, 10]\n",
    "array_nums2 = [1, 2, 4, 8, 9]\n",
    "print(\"Original arrays:\")\n",
    "print(array_nums1)\n",
    "print(array_nums2)\n",
    "result = list(filter(lambda x: x in array_nums1, array_nums2)) \n",
    "print (\"\\nIntersection of the said arrays: \",result)\n"
   ]
  },
  {
   "cell_type": "code",
   "execution_count": null,
   "metadata": {},
   "outputs": [],
   "source": []
  }
 ],
 "metadata": {
  "kernelspec": {
   "display_name": "Python 3",
   "language": "python",
   "name": "python3"
  },
  "language_info": {
   "codemirror_mode": {
    "name": "ipython",
    "version": 3
   },
   "file_extension": ".py",
   "mimetype": "text/x-python",
   "name": "python",
   "nbconvert_exporter": "python",
   "pygments_lexer": "ipython3",
   "version": "3.7.0"
  }
 },
 "nbformat": 4,
 "nbformat_minor": 2
}
