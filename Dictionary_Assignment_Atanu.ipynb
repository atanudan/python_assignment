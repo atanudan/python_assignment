{
 "cells": [
  {
   "cell_type": "markdown",
   "metadata": {},
   "source": [
    "Given a dictionary:\n",
    "car = {\"brand\": \"Ford”, “model\":\"Mustang\",\"year\":1964}\n",
    "1. Print the value of the \"model\" key of the car dictionary.\n",
    "2. Change the \"year\" value from 1964 to 2020.\n",
    "3. Add the key/value pair \"colour”: \"red\" to the car dictionary"
   ]
  },
  {
   "cell_type": "code",
   "execution_count": 4,
   "metadata": {},
   "outputs": [
    {
     "name": "stdout",
     "output_type": "stream",
     "text": [
      "Mustang\n",
      "{'brand': 'Ford', 'model': 'Mustang', 'year': 2020}\n",
      "{'brand': 'Ford', 'model': 'Mustang', 'year': 2020, 'colour': 'red'}\n"
     ]
    }
   ],
   "source": [
    "car = {\"brand\": \"Ford\", \"model\": \"Mustang\",\"year\":1964}\n",
    "print(car['model'])\n",
    "car['year'] =2020\n",
    "print(car)\n",
    "car.update({\"colour\": \"red\"})\n",
    "print(car)\n",
    "\n",
    "#3. Add the key/value pair \"colour”: \"red\" to the car dictionary"
   ]
  },
  {
   "cell_type": "markdown",
   "metadata": {},
   "source": [
    "Given a dictionary inventory :\n",
    "inventory = {'gold' : 500, 'pouch' : ['flint', 'twine', 'gemstone'],\n",
    "'backpack' : ['xylophone’, ‘dagger', 'bedroll’, ‘bread’, ‘loaf']}\n",
    "\n",
    "4. Add a key to inventory called 'pocket' and Set the value of\n",
    "'pocket' to be a list consisting of the strings 'seashell', 'strange\n",
    "berry', and 'lint'.\n",
    "\n",
    "5. Sort the items in the list stored under the 'backpack' key.\n",
    "\n",
    "6. Remove 'dagger' from the list of items stored under the\n",
    "'backpack' key.\n",
    "\n",
    "7. Add 50 to the number stored under the 'gold' key."
   ]
  },
  {
   "cell_type": "code",
   "execution_count": 24,
   "metadata": {},
   "outputs": [
    {
     "data": {
      "text/plain": [
       "{'gold': 500,\n",
       " 'pouch': ['flint', 'twine', 'gemstone'],\n",
       " 'backpack': ['xylophone', 'dagger', 'bedroll', 'bread', 'loaf']}"
      ]
     },
     "execution_count": 24,
     "metadata": {},
     "output_type": "execute_result"
    }
   ],
   "source": [
    "inventory = {'gold' : 500, 'pouch' : ['flint', 'twine', 'gemstone'], 'backpack' : ['xylophone', 'dagger', 'bedroll', 'bread', 'loaf']}\n",
    "inventory\n"
   ]
  },
  {
   "cell_type": "code",
   "execution_count": 25,
   "metadata": {},
   "outputs": [
    {
     "data": {
      "text/plain": [
       "{'gold': 500,\n",
       " 'pouch': ['flint', 'twine', 'gemstone'],\n",
       " 'backpack': ['xylophone', 'dagger', 'bedroll', 'bread', 'loaf'],\n",
       " 'pocket': ['seashell', 'strange berry', 'lint']}"
      ]
     },
     "execution_count": 25,
     "metadata": {},
     "output_type": "execute_result"
    }
   ],
   "source": [
    "inventory.update({\"pocket\": [\"seashell\",'strange berry','lint']})\n",
    "inventory"
   ]
  },
  {
   "cell_type": "code",
   "execution_count": 26,
   "metadata": {},
   "outputs": [],
   "source": [
    "inventory['backpack'].sort()"
   ]
  },
  {
   "cell_type": "code",
   "execution_count": 27,
   "metadata": {},
   "outputs": [
    {
     "data": {
      "text/plain": [
       "{'gold': 500,\n",
       " 'pouch': ['flint', 'twine', 'gemstone'],\n",
       " 'backpack': ['bedroll', 'bread', 'dagger', 'loaf', 'xylophone'],\n",
       " 'pocket': ['seashell', 'strange berry', 'lint']}"
      ]
     },
     "execution_count": 27,
     "metadata": {},
     "output_type": "execute_result"
    }
   ],
   "source": [
    "inventory\n"
   ]
  },
  {
   "cell_type": "code",
   "execution_count": 34,
   "metadata": {},
   "outputs": [
    {
     "data": {
      "text/plain": [
       "{'gold': [500, 50],\n",
       " 'pouch': ['flint', 'twine', 'gemstone'],\n",
       " 'backpack': ['bedroll', 'bread', 'dagger', 'loaf', 'xylophone'],\n",
       " 'pocket': ['seashell', 'strange berry', 'lint']}"
      ]
     },
     "execution_count": 34,
     "metadata": {},
     "output_type": "execute_result"
    }
   ],
   "source": [
    "A=inventory[\"gold\"],50\n",
    "type(A)\n",
    "listA=list(A)\n",
    "listA\n",
    "inventory[\"gold\"]=listA\n",
    "inventory"
   ]
  },
  {
   "cell_type": "markdown",
   "metadata": {},
   "source": [
    "Write a Python script to concatenate three dictionaries to create\n",
    "a new one. Make dictionaries yourself."
   ]
  },
  {
   "cell_type": "code",
   "execution_count": 38,
   "metadata": {},
   "outputs": [
    {
     "data": {
      "text/plain": [
       "dict"
      ]
     },
     "execution_count": 38,
     "metadata": {},
     "output_type": "execute_result"
    }
   ],
   "source": [
    "emp={'Name':['Atanu','Raju','Jayant'],'Age':[35,20,27],\n",
    "    'Designation':['DS','DC','JDS']}\n",
    "type(emp)\n"
   ]
  },
  {
   "cell_type": "code",
   "execution_count": 40,
   "metadata": {},
   "outputs": [
    {
     "data": {
      "text/plain": [
       "{'brand': 'Ford',\n",
       " 'model': 'Mustang',\n",
       " 'year': 2020,\n",
       " 'colour': 'red',\n",
       " 'gold': [500, 50],\n",
       " 'pouch': ['flint', 'twine', 'gemstone'],\n",
       " 'backpack': ['bedroll', 'bread', 'dagger', 'loaf', 'xylophone'],\n",
       " 'pocket': ['seashell', 'strange berry', 'lint'],\n",
       " 'Name': ['Atanu', 'Raju', 'Jayant'],\n",
       " 'Age': [35, 20, 27],\n",
       " 'Designation': ['DS', 'DC', 'JDS']}"
      ]
     },
     "execution_count": 40,
     "metadata": {},
     "output_type": "execute_result"
    }
   ],
   "source": [
    "mar_dic = {**car, **inventory, **emp}\n",
    "\n",
    "mar_dic"
   ]
  },
  {
   "cell_type": "markdown",
   "metadata": {},
   "source": [
    "Write a Python program to sum all the items in a dictionary."
   ]
  },
  {
   "cell_type": "code",
   "execution_count": 44,
   "metadata": {},
   "outputs": [
    {
     "name": "stdout",
     "output_type": "stream",
     "text": [
      "600\n"
     ]
    }
   ],
   "source": [
    "mydict = {'data1':100,'data2':200,'data3':300}\n",
    "print(sum(mydict.values()))"
   ]
  },
  {
   "cell_type": "code",
   "execution_count": null,
   "metadata": {},
   "outputs": [],
   "source": []
  }
 ],
 "metadata": {
  "kernelspec": {
   "display_name": "Python 3",
   "language": "python",
   "name": "python3"
  },
  "language_info": {
   "codemirror_mode": {
    "name": "ipython",
    "version": 3
   },
   "file_extension": ".py",
   "mimetype": "text/x-python",
   "name": "python",
   "nbconvert_exporter": "python",
   "pygments_lexer": "ipython3",
   "version": "3.7.0"
  }
 },
 "nbformat": 4,
 "nbformat_minor": 2
}
