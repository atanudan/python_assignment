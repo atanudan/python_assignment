{
 "cells": [
  {
   "cell_type": "markdown",
   "metadata": {},
   "source": [
    "1. Take two integer values from the user and print greatest\n",
    "among them."
   ]
  },
  {
   "cell_type": "code",
   "execution_count": 2,
   "metadata": {},
   "outputs": [
    {
     "name": "stdout",
     "output_type": "stream",
     "text": [
      "enter integer value1100\n",
      "enter integer value220\n",
      "gretest value:  100\n"
     ]
    }
   ],
   "source": [
    "\n",
    "int1=int(input(\"enter integer value1\"))\n",
    "int2=int(input(\"enter integer value2\"))\n",
    "\n",
    "if int1> int2:\n",
    "    print(\"gretest value: \", int1)\n",
    "else:\n",
    "    print(\"gretest value: \", int2)\n"
   ]
  },
  {
   "cell_type": "markdown",
   "metadata": {},
   "source": [
    "2. Write a program that reads an integer from the user. Then\n",
    "your program should display a message indicating\n",
    "whether the integer is even or odd."
   ]
  },
  {
   "cell_type": "code",
   "execution_count": 3,
   "metadata": {},
   "outputs": [
    {
     "name": "stdout",
     "output_type": "stream",
     "text": [
      "enter a number:4\n",
      "the entered number 4 is even\n"
     ]
    }
   ],
   "source": [
    "input_num=int(input(\"enter a number:\"))\n",
    "\n",
    "if (input_num%2==0) :\n",
    "    print(\"the entered number {0} is even\".format(input_num))\n",
    "else:\n",
    "    print(\"the entered number {0} is odd\".format(input_num))"
   ]
  },
  {
   "cell_type": "markdown",
   "metadata": {},
   "source": [
    "3. Create a program that reads a letter of the alphabet from\n",
    "the user. If the user enters a, e, i, o or u then your program\n",
    "should display a message indicating that the entered letter is\n",
    "a vowel. If the user enters y then your program should\n",
    "display a message indicating that sometimes y is a vowel,\n",
    "and sometimes y is a consonant. Otherwise your program\n",
    "should display a message indicating that the letter is a\n",
    "consonant."
   ]
  },
  {
   "cell_type": "code",
   "execution_count": 5,
   "metadata": {},
   "outputs": [
    {
     "name": "stdout",
     "output_type": "stream",
     "text": [
      "enter a letter: 3\n",
      "the letter 3 is a consonent\n"
     ]
    }
   ],
   "source": [
    "vowel=['a','e','i','o','u']\n",
    "\n",
    "in_char=input(\"enter a letter: \")\n",
    "is_match=False\n",
    "for i in vowel:\n",
    "    if (i.upper()==in_char.upper()):\n",
    "        print(\"the entered letter {0} is a vowel\".format(in_char))\n",
    "        is_match=True\n",
    "        break\n",
    "\n",
    "if is_match==False:\n",
    "    if (in_char.upper()==\"Y\"):\n",
    "        print(\"the sometimes letter {0} is a vowel\".format(in_char))\n",
    "    else:\n",
    "        print(\"the letter {0} is a consonent\".format(in_char))\n",
    "    "
   ]
  },
  {
   "cell_type": "markdown",
   "metadata": {},
   "source": [
    "A triangle can be classified based on the lengths of its\n",
    "sides as equilateral, isosceles or scalene. All three sides of an\n",
    "equilateral triangle have the same length. An isosceles\n",
    "triangle has two sides that are the same length, and a third\n",
    "side that is a different length. If all of the sides have different\n",
    "lengths then the triangle is scalene. Write a program that\n",
    "reads the lengths of the three sides of a triangle from the user.\n",
    "Then display a message that states the triangle’s type."
   ]
  },
  {
   "cell_type": "code",
   "execution_count": 14,
   "metadata": {},
   "outputs": [
    {
     "name": "stdout",
     "output_type": "stream",
     "text": [
      "enter side1: 2\n",
      "enter side2: 3\n",
      "enter side3: 4\n",
      "scalene triangle\n"
     ]
    }
   ],
   "source": [
    "side1 =int(input(\"enter side1: \"))\n",
    "           \n",
    "side2 =int(input(\"enter side2: \"))\n",
    "           \n",
    "side3 =int(input(\"enter side3: \"))\n",
    "\n",
    "if (side1==side2==side3):\n",
    "    print(\"equilateral triangle \")\n",
    "elif  (side1==side2) or (side1==side3) or (side2==side3):\n",
    "    print(\"isosceles triangle \") \n",
    "else:\n",
    "    print(\"scalene triangle\")\n"
   ]
  },
  {
   "cell_type": "markdown",
   "metadata": {},
   "source": [
    "5. Write a program that determines the name of a shape\n",
    "from its number of sides. Read the number of sides from the\n",
    "user and then report the appropriate name as part of a\n",
    "meaningful message. Your program should support shapes\n",
    "with anywhere from 3 up to (and including) 10 sides. If a\n",
    "number of sides outside of this range is entered then your\n",
    "program should display an appropriate error message."
   ]
  },
  {
   "cell_type": "code",
   "execution_count": 16,
   "metadata": {},
   "outputs": [
    {
     "name": "stdout",
     "output_type": "stream",
     "text": [
      "enter number of side: 5\n",
      "pentagon has 5 sides\n"
     ]
    }
   ],
   "source": [
    "side =int(input(\"enter number of side: \"))\n",
    "\n",
    "if side==3:\n",
    "    print(\"triangle has {0} sides\".format(side))\n",
    "elif side==4:\n",
    "    print(\"rectangle has {0} sides\".format(side))\n",
    "elif side==5:\n",
    "    print(\"pentagon has {0} sides\".format(side))\n",
    "elif side==6:\n",
    "    print(\"hexagon has {0} sides\".format(side))\n",
    "elif side==7:\n",
    "    print(\"heptagon has {0} sides\".format(side))\n",
    "elif side==8:\n",
    "    print(\"octagon has {0} sides\".format(side))\n",
    "elif side==9:\n",
    "    print(\"nonagon has {0} sides\".format(side))\n",
    "elif side==10:\n",
    "    print(\"decagon has {0} sides\".format(side))\n",
    "else:\n",
    "    print(\"Entered side {0} doesn't in between 3 to 10 has {0} sides\".format(side))"
   ]
  },
  {
   "cell_type": "markdown",
   "metadata": {},
   "source": [
    "A shop will give a discount of 10% if the cost of the\n",
    "purchased quantity is more than 1000. Ask the user for\n",
    "quantity, suppose, one unit will cost 100. Judge and print\n",
    "total cost for user."
   ]
  },
  {
   "cell_type": "code",
   "execution_count": 23,
   "metadata": {},
   "outputs": [
    {
     "name": "stdout",
     "output_type": "stream",
     "text": [
      "Please enter purchased quantity: 1000\n",
      "your purchansed queantity without discount is 1000.0\n"
     ]
    }
   ],
   "source": [
    "qty =float(input(\"Please enter purchased quantity: \"))\n",
    "\n",
    "if (qty >1000):\n",
    "    qty=qty-(qty*.1)\n",
    "    print(\"your purchansed queantity after discount is {0}\".format(qty))\n",
    "else:\n",
    "    print(\"your purchansed queantity without discount is {0}\".format(qty))\n"
   ]
  },
  {
   "cell_type": "markdown",
   "metadata": {},
   "source": [
    "Take input of age of 3 people by user and determine\n",
    "oldest and youngest among them."
   ]
  },
  {
   "cell_type": "code",
   "execution_count": 26,
   "metadata": {},
   "outputs": [
    {
     "name": "stdout",
     "output_type": "stream",
     "text": [
      "enter age1: 14\n",
      "enter age2: 12\n",
      "enter age3: 13\n",
      "Youngest age : 12 and oldest age : 14\n"
     ]
    }
   ],
   "source": [
    "age1 =int(input(\"enter age1: \"))\n",
    "           \n",
    "age2 =int(input(\"enter age2: \"))\n",
    "           \n",
    "age3 =int(input(\"enter age3: \"))\n",
    "\n",
    "age=[age1,age2,age3]\n",
    "age.sort()\n",
    "print(\"Youngest age : {0} and oldest age : {1}\".format(age[0],age[2]))"
   ]
  },
  {
   "cell_type": "markdown",
   "metadata": {},
   "source": [
    "8. A company decided to give a bonus of 5% to an employee\n",
    "if his/her year of service is more than 5 years. Ask user for\n",
    "their salary and year of service and print the net bonus\n",
    "amount."
   ]
  },
  {
   "cell_type": "code",
   "execution_count": 4,
   "metadata": {},
   "outputs": [
    {
     "name": "stdout",
     "output_type": "stream",
     "text": [
      "enter your year of service: 4\n",
      "enter your salary: 100\n",
      "You are not eligible for bonus\n"
     ]
    }
   ],
   "source": [
    "yr_ser =float(input(\"enter your year of service: \"))\n",
    "\n",
    "sal =float(input(\"enter your salary: \"))\n",
    "\n",
    "if yr_ser > 5:\n",
    "    bonus=sal*.05\n",
    "    print(\"Your net bonus amount is {0}\".format(bonus))\n",
    "else:\n",
    "    print(\"You are not eligible for bonus\")"
   ]
  },
  {
   "cell_type": "markdown",
   "metadata": {},
   "source": [
    "9. Write a program to check if a year is leap year or not.\n",
    "If a year is divisible by 4 then it is leap year but if the year is\n",
    "a century year like 2000, 1900, 2100 then it must be divisible\n",
    "by 400."
   ]
  },
  {
   "cell_type": "code",
   "execution_count": 7,
   "metadata": {},
   "outputs": [
    {
     "name": "stdout",
     "output_type": "stream",
     "text": [
      "Enter Year: 1900\n",
      "1900 is not a Leap Year\n"
     ]
    }
   ],
   "source": [
    "year = int(input(\"Enter Year: \"))\n",
    "\n",
    "\n",
    "if year % 4 == 0 and year % 100 != 0:\n",
    "    print(year, \"is a Leap Year\")\n",
    "elif year % 400 ==0:\n",
    "    print(year, \"is a Leap Year\")\n",
    "else:\n",
    "    print(year, \"is not a Leap Year\")"
   ]
  },
  {
   "cell_type": "markdown",
   "metadata": {},
   "source": [
    "10. Accept d1 and d2 as input. First, check to see that they\n",
    "are in the proper range for dice. If not, print a message.\n",
    "Otherwise, determine the outcome if this is the come out roll.\n",
    "If the sum is 7 or 11, print the winner. If the sum is 2, 3 or\n",
    "12, print loser. Otherwise print the point."
   ]
  },
  {
   "cell_type": "code",
   "execution_count": 21,
   "metadata": {},
   "outputs": [
    {
     "name": "stdout",
     "output_type": "stream",
     "text": [
      "Enter dice1: 1\n",
      "Enter dice2: 6\n",
      "winner\n"
     ]
    }
   ],
   "source": [
    "d1 = int(input(\"Enter dice1: \"))\n",
    "d2 = int(input(\"Enter dice2: \"))\n",
    "\n",
    "\n",
    "\n",
    "if (d1>6):\n",
    "    print(\"entered d1 value {0} should be in 1 to 6\".format(d1))\n",
    "elif (d2>6):\n",
    "    print(\"entered d2 value {1} should be in 1 to 6\".format(d2))\n",
    "elif (d1+d2) ==7 or (d1+d2) == 11:\n",
    "    print(\"winner\")\n",
    "elif (d1+d2) ==2 or (d1+d2) == 3 or (d1+d2) == 12:\n",
    "    print(\"loser\")"
   ]
  },
  {
   "cell_type": "markdown",
   "metadata": {},
   "source": [
    "11. Write a python program to display the number of days in\n",
    "a month name from the given list of months or month\n",
    "number entered by user."
   ]
  },
  {
   "cell_type": "code",
   "execution_count": 24,
   "metadata": {},
   "outputs": [
    {
     "name": "stdout",
     "output_type": "stream",
     "text": [
      "please enter a month: 8\n",
      "Number of days is 31\n"
     ]
    }
   ],
   "source": [
    "monList = {\"jan\": 1, \"feb\": 2,\"mar\":3, \"apr\" :4, \"may\":5,\"jun\":6,\"jul\":7,\"aug\":8,\"sep\":9,\"oct\":10,\"nov\":11,\"dec\":12}\n",
    "uinput=input(\"please enter a month: \")\n",
    "month=0\n",
    "try:\n",
    "    month = int(uinput)        \n",
    "except ValueError:\n",
    "    month= monList[uinput.lower()]\n",
    "        \n",
    "if(month == 1 or month == 3 or month == 5 or month == 7 or month == 8 or month == 10 or month == 12):\n",
    "    print(\"Number of days is 31\")\n",
    "elif(month == 2):\n",
    "    print(\"NO of days is 28\")\n",
    "else:\n",
    "    print(\"Number of days is 30\")\n"
   ]
  },
  {
   "cell_type": "markdown",
   "metadata": {},
   "source": [
    "12. Write a Python program to get next day of a given date."
   ]
  },
  {
   "cell_type": "code",
   "execution_count": 36,
   "metadata": {},
   "outputs": [
    {
     "name": "stdout",
     "output_type": "stream",
     "text": [
      "Current date and time:  2020-07-21 18:37:52.243973\n",
      "enter a date in yyyy-mm-dd format: 2019-12-31\n",
      "Next date : 2020-01-01 \n"
     ]
    }
   ],
   "source": [
    "\n",
    "import datetime\n",
    "print(\"Current date and time: \" , datetime.datetime.now())\n",
    "curr_date=input(\"enter a date in yyyy-mm-dd format: \")\n",
    "\n",
    "date_string = '2017-12-31'\n",
    "date_format = '%Y-%m-%d'\n",
    "try:\n",
    "  date_obj = datetime.datetime.strptime(curr_date, date_format)\n",
    "  \n",
    "except ValueError:\n",
    "  print(\"Incorrect data format, should be YYYY-MM-DD\")\n",
    "\n",
    "NextDay_Date = date_obj + datetime.timedelta(days=1)\n",
    "#print(NextDay_Date.strftime('%Y-%m-%d'))\n",
    "print (\"Next date : {0} \".format(NextDay_Date.strftime('%Y-%m-%d')))"
   ]
  },
  {
   "cell_type": "code",
   "execution_count": null,
   "metadata": {},
   "outputs": [],
   "source": []
  }
 ],
 "metadata": {
  "kernelspec": {
   "display_name": "Python 3",
   "language": "python",
   "name": "python3"
  },
  "language_info": {
   "codemirror_mode": {
    "name": "ipython",
    "version": 3
   },
   "file_extension": ".py",
   "mimetype": "text/x-python",
   "name": "python",
   "nbconvert_exporter": "python",
   "pygments_lexer": "ipython3",
   "version": "3.7.0"
  }
 },
 "nbformat": 4,
 "nbformat_minor": 2
}
